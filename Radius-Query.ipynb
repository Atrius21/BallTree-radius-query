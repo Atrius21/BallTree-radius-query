{
 "cells": [
  {
   "cell_type": "markdown",
   "metadata": {},
   "source": [
    "### Radius Query with BallTree\n",
    "This notebook provides an example of using the BallTree algorithm to return a list of latlongs within a given radius "
   ]
  },
  {
   "cell_type": "code",
   "execution_count": 1,
   "metadata": {},
   "outputs": [],
   "source": [
    "import pandas as pd\n",
    "import numpy as np\n",
    "import random\n",
    "import string\n",
    "from sklearn.neighbors import BallTree"
   ]
  },
  {
   "cell_type": "code",
   "execution_count": 2,
   "metadata": {},
   "outputs": [],
   "source": [
    "\"\"\"\n",
    "The function below generates a sample of lat longs tied to an in\n",
    "\"\"\"\n",
    "\n",
    "def latlon_generator(main_lat, main_lon, lst_range):\n",
    "    d = {}\n",
    "    for x in range(0,lst_range):\n",
    "        idx_id = ''.join(random.sample(string.ascii_uppercase + string.digits, k=5))\n",
    "        lat = round(random.randint(0,100)/10000 + main_lat,5)\n",
    "        lon = round(random.randint(0,100)/10000 + main_lon,5)\n",
    "        d.update({idx_id:(lat,lon)})\n",
    "    return d"
   ]
  },
  {
   "cell_type": "code",
   "execution_count": 3,
   "metadata": {},
   "outputs": [],
   "source": [
    "query_list = latlon_generator(3.14,101.70, 10)"
   ]
  },
  {
   "cell_type": "code",
   "execution_count": 4,
   "metadata": {},
   "outputs": [
    {
     "data": {
      "text/plain": [
       "{'7JDA2': (3.1408, 101.7047),\n",
       " '9Z156': (3.1408, 101.7078),\n",
       " '43PRD': (3.1449, 101.7094),\n",
       " 'CUTLM': (3.1409, 101.7036),\n",
       " 'JMFZQ': (3.1412, 101.7004),\n",
       " 'OIBLN': (3.1479, 101.7018),\n",
       " 'R27NQ': (3.1485, 101.7054),\n",
       " 'JR2XF': (3.1458, 101.706),\n",
       " 'QFC3X': (3.1415, 101.7093),\n",
       " 'Z5K4C': (3.1452, 101.7094)}"
      ]
     },
     "execution_count": 4,
     "metadata": {},
     "output_type": "execute_result"
    }
   ],
   "source": [
    "# sample data\n",
    "query_list"
   ]
  },
  {
   "cell_type": "code",
   "execution_count": 5,
   "metadata": {},
   "outputs": [],
   "source": [
    " # Ball Tree Radius query\n",
    "RADIANT_TO_KM_CONSTANT = 6367"
   ]
  },
  {
   "cell_type": "code",
   "execution_count": 6,
   "metadata": {},
   "outputs": [],
   "source": [
    "# Generating the list of lat longs based on the dictionary\n",
    "latlons = [v for k,v in query_list.items()]"
   ]
  },
  {
   "cell_type": "code",
   "execution_count": 9,
   "metadata": {},
   "outputs": [],
   "source": [
    "class BallTreeIndex:\n",
    "    def __init__(self,lat_longs):\n",
    "        self.lat_longs = np.radians(lat_longs)\n",
    "        self.ball_tree_index =BallTree(self.lat_longs, metric='haversine')\n",
    "\n",
    "    def query_radius(self,query,radius):\n",
    "        radius_km = radius/1e3\n",
    "        radius_radian = radius_km / RADIANT_TO_KM_CONSTANT \n",
    "        query = np.radians(np.array([query]))\n",
    "        indices = self.ball_tree_index.query_radius(query,r=radius_radian)     \n",
    "        return indices[0]\n",
    "    \n",
    "    def query(self, query):\n",
    "        query = np.radians(np.array([query]))\n",
    "        dist, ind = self.ball_tree_index.query(query, k=1) \n",
    "        return ind[0]\n",
    "    \n",
    "    \n",
    " "
   ]
  },
  {
   "cell_type": "code",
   "execution_count": 26,
   "metadata": {},
   "outputs": [],
   "source": [
    "p1 = BallTreeIndex(latlons)\n",
    "\n",
    "\n",
    "def return_sites(lat_longs, radius):\n",
    "    \"\"\"\n",
    "    Returns the nearest latlongs based on \n",
    "    input radius\n",
    "    \"\"\"\n",
    "    input_latlong=lat_longs # input your latlong e.g lat,long\n",
    "    radius = radius # radius in metres\n",
    "    id_site = [list(query_list)[x] for x in list(p1.query_radius(input_latlong, radius))]\n",
    "    \n",
    "    #returns the site_ids within the specify radius of your latlong\n",
    "    return id_site\n",
    "\n",
    "\n",
    "def nearest_site(lat_longs):\n",
    "##========================================##\n",
    "    \n",
    "    input_latlong=lat_longs # input your latlong e.g lat,long\n",
    "    id_site = [list(query_list)[x] for x in list(p1.query(input_latlong))]\n",
    "    \n",
    "    #returns the site_ids within the specify radius of your latlong\n",
    "    return id_site\n",
    "\n",
    "def return_latlon(lat_longs, radius):\n",
    "##========================================##\n",
    "\n",
    "    # getting the queried site_ids\n",
    "    input_latlong=lat_longs # input your latlong e.g lat,long\n",
    "    radius = radius # radius in metres\n",
    "    id_tag = [list(query_list.values())[x] for x in list(p1.query(input_latlong))]\n",
    "    \n",
    "    #returns the site_ids within the specify radius of your latlong\n",
    "    return id_tag"
   ]
  },
  {
   "cell_type": "code",
   "execution_count": 27,
   "metadata": {},
   "outputs": [
    {
     "data": {
      "text/plain": [
       "['JMFZQ', 'OIBLN']"
      ]
     },
     "execution_count": 27,
     "metadata": {},
     "output_type": "execute_result"
    }
   ],
   "source": [
    "return_sites((3.144, 101.700232), 500)"
   ]
  },
  {
   "cell_type": "code",
   "execution_count": 28,
   "metadata": {},
   "outputs": [
    {
     "data": {
      "text/plain": [
       "['JMFZQ']"
      ]
     },
     "execution_count": 28,
     "metadata": {},
     "output_type": "execute_result"
    }
   ],
   "source": [
    "nearest_site((3.144,101.700232))"
   ]
  },
  {
   "cell_type": "code",
   "execution_count": 29,
   "metadata": {},
   "outputs": [
    {
     "data": {
      "text/plain": [
       "[(3.1412, 101.7004)]"
      ]
     },
     "execution_count": 29,
     "metadata": {},
     "output_type": "execute_result"
    }
   ],
   "source": [
    "return_latlon((3.144,101.700232),500)"
   ]
  },
  {
   "cell_type": "code",
   "execution_count": 30,
   "metadata": {},
   "outputs": [
    {
     "data": {
      "text/plain": [
       "{'7JDA2': (3.1408, 101.7047),\n",
       " '9Z156': (3.1408, 101.7078),\n",
       " '43PRD': (3.1449, 101.7094),\n",
       " 'CUTLM': (3.1409, 101.7036),\n",
       " 'JMFZQ': (3.1412, 101.7004),\n",
       " 'OIBLN': (3.1479, 101.7018),\n",
       " 'R27NQ': (3.1485, 101.7054),\n",
       " 'JR2XF': (3.1458, 101.706),\n",
       " 'QFC3X': (3.1415, 101.7093),\n",
       " 'Z5K4C': (3.1452, 101.7094)}"
      ]
     },
     "execution_count": 30,
     "metadata": {},
     "output_type": "execute_result"
    }
   ],
   "source": [
    "query_list"
   ]
  },
  {
   "cell_type": "code",
   "execution_count": null,
   "metadata": {},
   "outputs": [],
   "source": []
  }
 ],
 "metadata": {
  "kernelspec": {
   "display_name": "Python 3",
   "language": "python",
   "name": "python3"
  },
  "language_info": {
   "codemirror_mode": {
    "name": "ipython",
    "version": 3
   },
   "file_extension": ".py",
   "mimetype": "text/x-python",
   "name": "python",
   "nbconvert_exporter": "python",
   "pygments_lexer": "ipython3",
   "version": "3.7.4"
  }
 },
 "nbformat": 4,
 "nbformat_minor": 2
}
