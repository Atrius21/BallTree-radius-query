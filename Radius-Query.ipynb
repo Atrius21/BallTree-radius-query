{
 "cells": [
  {
   "cell_type": "markdown",
   "metadata": {},
   "source": [
    "### Radius Query with BallTree\n",
    "This notebook provides an example of using the BallTree algorithm to return a list of latlongs within a given radius "
   ]
  },
  {
   "cell_type": "code",
   "execution_count": 1,
   "metadata": {},
   "outputs": [],
   "source": [
    "import pandas as pd\n",
    "import numpy as np\n",
    "import random\n",
    "import string\n",
    "from sklearn.neighbors import BallTree"
   ]
  },
  {
   "cell_type": "code",
   "execution_count": 2,
   "metadata": {},
   "outputs": [],
   "source": [
    "\"\"\"\n",
    "The function below generates a sample of lat longs tied to an in\n",
    "\"\"\"\n",
    "\n",
    "def latlon_generator(main_lat, main_lon, lst_range):\n",
    "    d = {}\n",
    "    for x in range(0,lst_range):\n",
    "        idx_id = ''.join(random.sample(string.ascii_uppercase + string.digits, k=5))\n",
    "        lat = round(random.randint(0,100)/10000 + main_lat,5)\n",
    "        lon = round(random.randint(0,100)/10000 + main_lon,5)\n",
    "        d.update({idx_id:(lat,lon)})\n",
    "    return d"
   ]
  },
  {
   "cell_type": "code",
   "execution_count": 3,
   "metadata": {},
   "outputs": [],
   "source": [
    "query_list = latlon_generator(3.14,101.70, 10)"
   ]
  },
  {
   "cell_type": "code",
   "execution_count": 4,
   "metadata": {},
   "outputs": [
    {
     "data": {
      "text/plain": [
       "{'7V5IL': (3.1413, 101.7097),\n",
       " '76Y5Z': (3.145, 101.7059),\n",
       " 'U5EHV': (3.1419, 101.7056),\n",
       " '6UYQ3': (3.14, 101.7099),\n",
       " 'J083Y': (3.142, 101.7057),\n",
       " 'XG7Y3': (3.1452, 101.7081),\n",
       " '6PRMH': (3.15, 101.7084),\n",
       " 'ACQ6K': (3.1453, 101.7048),\n",
       " 'GN51Q': (3.1463, 101.7),\n",
       " 'JO36P': (3.1438, 101.7036)}"
      ]
     },
     "execution_count": 4,
     "metadata": {},
     "output_type": "execute_result"
    }
   ],
   "source": [
    "# sample data\n",
    "query_list"
   ]
  },
  {
   "cell_type": "code",
   "execution_count": 5,
   "metadata": {},
   "outputs": [],
   "source": [
    " # Ball Tree Radius query\n",
    "RADIANT_TO_KM_CONSTANT = 6367"
   ]
  },
  {
   "cell_type": "code",
   "execution_count": 6,
   "metadata": {},
   "outputs": [],
   "source": [
    "# Generating the list of lat longs based on the dictionary\n",
    "latlons = [v for k,v in query_list.items()]"
   ]
  },
  {
   "cell_type": "code",
   "execution_count": 7,
   "metadata": {},
   "outputs": [],
   "source": [
    "class BallTreeIndex:\n",
    "    def __init__(self,lat_longs):\n",
    "        self.lat_longs = np.radians(lat_longs)\n",
    "        self.ball_tree_index =BallTree(self.lat_longs, metric='haversine')\n",
    "\n",
    "    def query_radius(self,query,radius):\n",
    "        radius_km = radius/1e3\n",
    "        radius_radian = radius_km / RADIANT_TO_KM_CONSTANT \n",
    "        query = np.radians(np.array([query]))\n",
    "        indices = self.ball_tree_index.query_radius(query,r=radius_radian)     \n",
    "        return indices[0]\n",
    "    \n",
    "    def query(self, query):\n",
    "        query = np.radians(np.array([query]))\n",
    "        dist, ind = self.ball_tree_index.query(query, k=1) \n",
    "        return ind[0]\n",
    "    \n",
    "    \n",
    "p1 = BallTreeIndex(latlons)    "
   ]
  },
  {
   "cell_type": "code",
   "execution_count": 8,
   "metadata": {},
   "outputs": [],
   "source": [
    "def return_sites(lat_longs, radius):\n",
    "    \"\"\"\n",
    "    Returns the nearest latlongs based on \n",
    "    input radius\n",
    "    \"\"\"\n",
    "    input_latlong=lat_longs # input your latlong e.g lat,long\n",
    "    radius = radius # radius in metres\n",
    "    id_index = list(p1.query_radius(input_latlong, radius))\n",
    "    id_site = [list(query_list)[x] for x in list(p1.query_radius(input_latlong, radius))]\n",
    "    \n",
    "    #returns the site_ids within the specify radius of your latlong\n",
    "    return id_site"
   ]
  },
  {
   "cell_type": "code",
   "execution_count": 9,
   "metadata": {},
   "outputs": [
    {
     "data": {
      "text/plain": [
       "['GN51Q', 'JO36P']"
      ]
     },
     "execution_count": 9,
     "metadata": {},
     "output_type": "execute_result"
    }
   ],
   "source": [
    "return_sites((3.144, 101.700232), 500)"
   ]
  },
  {
   "cell_type": "code",
   "execution_count": null,
   "metadata": {},
   "outputs": [],
   "source": []
  }
 ],
 "metadata": {
  "kernelspec": {
   "display_name": "Python 3",
   "language": "python",
   "name": "python3"
  },
  "language_info": {
   "codemirror_mode": {
    "name": "ipython",
    "version": 3
   },
   "file_extension": ".py",
   "mimetype": "text/x-python",
   "name": "python",
   "nbconvert_exporter": "python",
   "pygments_lexer": "ipython3",
   "version": "3.7.4"
  }
 },
 "nbformat": 4,
 "nbformat_minor": 2
}
